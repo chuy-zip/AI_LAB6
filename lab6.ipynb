{
 "cells": [
  {
   "cell_type": "markdown",
   "metadata": {},
   "source": [
    "# Laboratotio 6 \n",
    "\n",
    "- Nelson García\n",
    "- Ricardo Chuy\n",
    "- Christian Echeverría"
   ]
  },
  {
   "cell_type": "markdown",
   "metadata": {},
   "source": [
    "# Task 1 - Teoría"
   ]
  },
  {
   "cell_type": "markdown",
   "metadata": {},
   "source": [
    "### 1. En un juego de suma cero para dos jugadores, ¿cómo funciona el algoritmo minimax para determinar la\n",
    "estrategia óptima para cada jugador? ¿Puede explicarnos el concepto de \"valor minimax\" y su importancia\n",
    "en este contexto?\n",
    "\n",
    "Lo que ocurre es que en un juego de suma cero, la suma de la utilidad de ambos jugadores da 0. Digamos si gana el jugador se le da 1 y al oponente -1 respectivamente. El minimax es una estrategia que se utiliza para minimizar la ganancia del contricante para poder tomar la mejor decisión en un turno. Con minimax lo que se hace es explorar el árbol de las posibles jugadas dado el estado actual del juego, intentando minimizar las ganancias del contricante. Hay nodos maximizadores y otros minimizadores, a veces se elije la jugada que tiene el valor minimo y posteriormente en el siguiente nivel, el máximo, de allí biene el nombre del algoritmo \"minimax\". Ahora con respecto al valor Minimax este representa el mejor resultado que puede obtener un jugador. Este se obtiene por medio de la exploración recursiva del árbol para obtener el mejor resultado. Este es muy importante ya que permite que los jugadores puedan realizar las acciones y decisiones en un punto del juego. Maximizando su ganancia y minimizando la del rival. \n",
    "\n",
    "### 2. Compare y contraste el algoritmo minimax con la poda alfa-beta. ¿Cómo mejora la poda alfa-beta la\n",
    "eficiencia del algoritmo minimax, particularmente en árboles de caza grandes? Proporcione un ejemplo\n",
    "para ilustrar la diferencia en la complejidad computacional entre la poda minimax y alfa-beta.\n",
    "\n",
    "El algoritmo minimax es bastante bueno, pero tiene el problema que cuando crece el entorno y la complejidad del juego también lo hace el arbol. Por ejemplo, el árbol de jugadas que se hace para un estado específico de un juego de totito es mucho más pequeño que el de un juego de ajedres. Es más, el árbol de ajedrés tiene tantas posibles jugadas en un estado del tablero, que sería prácticamente imposible utilizar minimax para recorrerlo completamente y obtener a mejor jugada.  Aquí es donde entra el algoritmo alfa beta pruning, que lo que hace principalmente es simplificar significativamnete el análisis del árbol. Si al momento de analizar una parte del árbol se encuentra un nodo que ya no se puede mejorar más se \"podan\" (no se exploran) las ramas restantes ya que no es neceario revisarlas. La complejidad de minimax es de O(b^d), pero la complejidad de alfa beta pruning es de O(b^(d/2)), donde b es el factor de ramificación (que tantas rama salen de cada nodo) y d es la profundidad del árbol. Eso quiere decir que si tenemos un juego donde el factor de ramificación es de 10 con profundidad 4, se evaluan aproximadamente 10^4 = 10000sin poda alfa-beta, mientras que con poda sería 10^(4/2) = 100. Una mejora bastante grande.\n",
    "\n",
    "### 3. ¿Cuál es el papel de expectiminimax en juegos con incertidumbre, como aquellos que involucran nodos de azar o información oculta? ¿En qué se diferencia el expectiminimax del minimax en el manejo de resultados probabilísticos y cuáles son los desafíos clave que aborda?\n",
    "\n",
    "El expectiminimax es una versión extendida del minimax que se usa principalmente cuando en un juego hay fáctores de incertidumbre (como eventos aleatorios) antes o después de tomar una decisión. El papel de este algoritmo es poder manejar y tomar decisiones óptimas para el jugador cuando el entorno realmente no es determinista. Es útil para tomar la mejor decisión posible cuando las decisiones y resultados dependen de probailidades al lanzar un dado, una moneda, revelear una carta oculta, entre otros.\n",
    "La principal diferencia con el minimax, es que el minimax maneja resultados deterministas, pero el expectiminimax tiene en cuenta la aleatoriedad y se calculan valores esperados de las decisiones. Es por esto que el expectiminimax toma en consideración Nodos de azar que son eventos probabilísticos, no solo nodos de minimización y maximización.\n",
    "Los desafíos clave realmente tienen que ver también con la complejidad que introduce al problema los eventos aleatorios. Estos eventos hacen que las situaciones no sean deterministas y se tengan que hacer estimados. Un desafío clave es poder seguir tomando decisiones óptimas incluso cuando hay incertidumbre en el problema, la complejidad computacional debido a la introducción de nuevos nodos y la función de evaluación para manejar correctamente la incertidumbre."
   ]
  },
  {
   "cell_type": "markdown",
   "metadata": {},
   "source": [
    "# Task 2 - Connect Four\n"
   ]
  },
  {
   "cell_type": "markdown",
   "metadata": {},
   "source": [
    "Para esta Task elegimos la opcion de poder usar un ambiente generado por IA, en este caso utilice DeepSeek para la creacion del ambiente junto con algunos ajustes propios para poder visualizar el tablero."
   ]
  },
  {
   "cell_type": "code",
   "execution_count": 15,
   "metadata": {},
   "outputs": [
    {
     "ename": "ModuleNotFoundError",
     "evalue": "No module named 'pygame'",
     "output_type": "error",
     "traceback": [
      "\u001b[31m---------------------------------------------------------------------------\u001b[39m",
      "\u001b[31mModuleNotFoundError\u001b[39m                       Traceback (most recent call last)",
      "\u001b[36mCell\u001b[39m\u001b[36m \u001b[39m\u001b[32mIn[15]\u001b[39m\u001b[32m, line 2\u001b[39m\n\u001b[32m      1\u001b[39m \u001b[38;5;28;01mimport\u001b[39;00m\u001b[38;5;250m \u001b[39m\u001b[34;01mnumpy\u001b[39;00m\u001b[38;5;250m \u001b[39m\u001b[38;5;28;01mas\u001b[39;00m\u001b[38;5;250m \u001b[39m\u001b[34;01mnp\u001b[39;00m\n\u001b[32m----> \u001b[39m\u001b[32m2\u001b[39m \u001b[38;5;28;01mimport\u001b[39;00m\u001b[38;5;250m \u001b[39m\u001b[34;01mpygame\u001b[39;00m\n\u001b[32m      3\u001b[39m \u001b[38;5;28;01mimport\u001b[39;00m\u001b[38;5;250m \u001b[39m\u001b[34;01msys\u001b[39;00m\n",
      "\u001b[31mModuleNotFoundError\u001b[39m: No module named 'pygame'"
     ]
    }
   ],
   "source": [
    "import numpy as np\n",
    "import pygame\n",
    "import sys"
   ]
  },
  {
   "cell_type": "code",
   "execution_count": null,
   "metadata": {},
   "outputs": [
    {
     "ename": "ModuleNotFoundError",
     "evalue": "No module named 'pygame'",
     "output_type": "error",
     "traceback": [
      "\u001b[31m---------------------------------------------------------------------------\u001b[39m",
      "\u001b[31mModuleNotFoundError\u001b[39m                       Traceback (most recent call last)",
      "\u001b[36mCell\u001b[39m\u001b[36m \u001b[39m\u001b[32mIn[14]\u001b[39m\u001b[32m, line 2\u001b[39m\n\u001b[32m      1\u001b[39m \u001b[38;5;28;01mimport\u001b[39;00m\u001b[38;5;250m \u001b[39m\u001b[34;01mnumpy\u001b[39;00m\u001b[38;5;250m \u001b[39m\u001b[38;5;28;01mas\u001b[39;00m\u001b[38;5;250m \u001b[39m\u001b[34;01mnp\u001b[39;00m\n\u001b[32m----> \u001b[39m\u001b[32m2\u001b[39m \u001b[38;5;28;01mimport\u001b[39;00m\u001b[38;5;250m \u001b[39m\u001b[34;01mpygame\u001b[39;00m\n\u001b[32m      3\u001b[39m \u001b[38;5;28;01mimport\u001b[39;00m\u001b[38;5;250m \u001b[39m\u001b[34;01msys\u001b[39;00m\n\u001b[32m      5\u001b[39m \u001b[38;5;66;03m# Constantes\u001b[39;00m\n",
      "\u001b[31mModuleNotFoundError\u001b[39m: No module named 'pygame'"
     ]
    }
   ],
   "source": [
    "import numpy as np\n",
    "\n",
    "class Connect4Env:\n",
    "    def __init__(self):\n",
    "        self.rows = 6\n",
    "        self.cols = 7\n",
    "        self.board = np.zeros((self.rows, self.cols), dtype=int)\n",
    "        self.current_player = 1  # Jugador 1 comienza\n",
    "        self.game_over = False\n",
    "        self.winner = None\n",
    "\n",
    "    def reset(self):\n",
    "        self.board = np.zeros((self.rows, self.cols), dtype=int)\n",
    "        self.current_player = 1\n",
    "        self.game_over = False\n",
    "        self.winner = None\n",
    "        return self.board\n",
    "\n",
    "    def is_valid_move(self, col):\n",
    "        return self.board[0][col] == 0\n",
    "\n",
    "    def make_move(self, col):\n",
    "        if not self.is_valid_move(col):\n",
    "            return False\n",
    "\n",
    "        for row in range(self.rows - 1, -1, -1):\n",
    "            if self.board[row][col] == 0:\n",
    "                self.board[row][col] = self.current_player\n",
    "                break\n",
    "\n",
    "        if self.check_win():\n",
    "            self.game_over = True\n",
    "            self.winner = self.current_player\n",
    "        elif self.is_board_full():\n",
    "            self.game_over = True\n",
    "            self.winner = 0  # Empate\n",
    "\n",
    "        self.current_player = 3 - self.current_player  # Cambia de jugador (1 <-> 2)\n",
    "        return True\n",
    "\n",
    "    def check_win(self):\n",
    "        # Verifica horizontal, vertical y diagonal\n",
    "        for row in range(self.rows):\n",
    "            for col in range(self.cols - 3):\n",
    "                if self.board[row][col] == self.current_player and \\\n",
    "                   self.board[row][col+1] == self.current_player and \\\n",
    "                   self.board[row][col+2] == self.current_player and \\\n",
    "                   self.board[row][col+3] == self.current_player:\n",
    "                    return True\n",
    "\n",
    "        for row in range(self.rows - 3):\n",
    "            for col in range(self.cols):\n",
    "                if self.board[row][col] == self.current_player and \\\n",
    "                   self.board[row+1][col] == self.current_player and \\\n",
    "                   self.board[row+2][col] == self.current_player and \\\n",
    "                   self.board[row+3][col] == self.current_player:\n",
    "                    return True\n",
    "\n",
    "        for row in range(self.rows - 3):\n",
    "            for col in range(self.cols - 3):\n",
    "                if self.board[row][col] == self.current_player and \\\n",
    "                   self.board[row+1][col+1] == self.current_player and \\\n",
    "                   self.board[row+2][col+2] == self.current_player and \\\n",
    "                   self.board[row+3][col+3] == self.current_player:\n",
    "                    return True\n",
    "\n",
    "        for row in range(3, self.rows):\n",
    "            for col in range(self.cols - 3):\n",
    "                if self.board[row][col] == self.current_player and \\\n",
    "                   self.board[row-1][col+1] == self.current_player and \\\n",
    "                   self.board[row-2][col+2] == self.current_player and \\\n",
    "                   self.board[row-3][col+3] == self.current_player:\n",
    "                    return True\n",
    "\n",
    "        return False\n",
    "\n",
    "    def is_board_full(self):\n",
    "        return np.all(self.board != 0)\n",
    "\n",
    "    def get_reward(self):\n",
    "        if self.game_over:\n",
    "            if self.winner == 1:\n",
    "                return 1  # Jugador 1 gana\n",
    "            elif self.winner == 2:\n",
    "                return -1  # Jugador 2 gana\n",
    "            else:\n",
    "                return 0  # Empate\n",
    "        return 0  # El juego continúa\n",
    "\n",
    "    def render(self):\n",
    "        print(self.board)"
   ]
  },
  {
   "cell_type": "markdown",
   "metadata": {},
   "source": [
    "Una pequeña ejecución, para poder probrar el ambiente"
   ]
  },
  {
   "cell_type": "code",
   "execution_count": null,
   "metadata": {},
   "outputs": [
    {
     "ename": "NameError",
     "evalue": "name 'pygame' is not defined",
     "output_type": "error",
     "traceback": [
      "\u001b[31m---------------------------------------------------------------------------\u001b[39m",
      "\u001b[31mNameError\u001b[39m                                 Traceback (most recent call last)",
      "\u001b[36mCell\u001b[39m\u001b[36m \u001b[39m\u001b[32mIn[9]\u001b[39m\u001b[32m, line 2\u001b[39m\n\u001b[32m      1\u001b[39m \u001b[38;5;66;03m# Inicializar Pygame\u001b[39;00m\n\u001b[32m----> \u001b[39m\u001b[32m2\u001b[39m \u001b[43mpygame\u001b[49m.init()\n\u001b[32m      3\u001b[39m screen = pygame.display.set_mode((WIDTH, HEIGHT))\n\u001b[32m      4\u001b[39m pygame.display.set_caption(\u001b[33m\"\u001b[39m\u001b[33mConnect 4\u001b[39m\u001b[33m\"\u001b[39m)\n",
      "\u001b[31mNameError\u001b[39m: name 'pygame' is not defined"
     ]
    }
   ],
   "source": [
    "env = Connect4Env()\n",
    "env.reset()\n",
    "\n",
    "while not env.game_over:\n",
    "    env.render()\n",
    "    if env.current_player == 1:\n",
    "        # Aquí podrías llamar a tu agente Minimax para elegir una columna\n",
    "        col = int(input(\"Jugador 1, elige una columna (0-6): \"))\n",
    "    else:\n",
    "        # Aquí podrías llamar a otro agente o permitir que un humano juegue\n",
    "        col = int(input(\"Jugador 2, elige una columna (0-6): \"))\n",
    "\n",
    "    if env.make_move(col):\n",
    "        print(f\"Jugador {env.current_player} hizo un movimiento en la columna {col}\")\n",
    "    else:\n",
    "        print(\"Movimiento inválido, intenta de nuevo.\")\n",
    "\n",
    "env.render()\n",
    "print(f\"El juego ha terminado. Ganador: {env.winner}\")"
   ]
  }
 ],
 "metadata": {
  "kernelspec": {
   "display_name": "Python 3 (ipykernel)",
   "language": "python",
   "name": "python3"
  },
  "language_info": {
   "codemirror_mode": {
    "name": "ipython",
    "version": 3
   },
   "file_extension": ".py",
   "mimetype": "text/x-python",
   "name": "python",
   "nbconvert_exporter": "python",
   "pygments_lexer": "ipython3",
   "version": "3.13.2"
  }
 },
 "nbformat": 4,
 "nbformat_minor": 2
}

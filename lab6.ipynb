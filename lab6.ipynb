{
 "cells": [
  {
   "cell_type": "markdown",
   "metadata": {},
   "source": [
    "# Laboratotio 6 \n",
    "\n",
    "- Nelson García\n",
    "- Ricardo Chuy\n",
    "- Christian Echeverría"
   ]
  },
  {
   "cell_type": "markdown",
   "metadata": {},
   "source": [
    "Task 1 - Teoría"
   ]
  },
  {
   "cell_type": "markdown",
   "metadata": {},
   "source": [
    "1. En un juego de suma cero para dos jugadores, ¿cómo funciona el algoritmo minimax para determinar la\n",
    "estrategia óptima para cada jugador? ¿Puede explicarnos el concepto de \"valor minimax\" y su importancia\n",
    "en este contexto?\n",
    "\n",
    "Lo que ocurre es que en un juego de suma cero, la suma de la utilidad de ambos jugadores da 0. Digamos si gana el jugador se le da 1 y al oponente -1 respectivamente. El minimax es una estrategia que se utiliza para minimizar la ganancia del contricante para poder tomar la mejor decisión en un turno. Con minimax lo que se hace es explorar el árbol de las posibles jugadas dado el estado actual del juego, intentando minimizar las ganancias del contricante. Hay nodos maximizadores y otros minimizadores, a veces se elije la jugada que tiene el valor minimo y posteriormente en el siguiente nivel, el máximo, de allí biene el nombre del algoritmo \"minimax\". Ahora con respecto al valor Minimax este representa el mejor resultado que puede obtener un jugador. Este se obtiene por medio de la exploración recursiva del árbol para obtener el mejor resultado. Este es muy importante ya que permite que los jugadores puedan realizar las acciones y decisiones en un punto del juego. Maximizando su ganancia y minimizando la del rival. \n",
    "\n",
    "2. Compare y contraste el algoritmo minimax con la poda alfa-beta. ¿Cómo mejora la poda alfa-beta la\n",
    "eficiencia del algoritmo minimax, particularmente en árboles de caza grandes? Proporcione un ejemplo\n",
    "para ilustrar la diferencia en la complejidad computacional entre la poda minimax y alfa-beta.\n",
    "\n",
    "El algoritmo minimax es bastante bueno, pero tiene el problema que cuando crece el entorno y la complejidad del juego también lo hace el arbol. Por ejemplo, el árbol de jugadas que se hace para un estado específico de un juego de totito es mucho más pequeño que el de un juego de ajedres. Es más, el árbol de ajedrés tiene tantas posibles jugadas en un estado del tablero, que sería prácticamente imposible utilizar minimax para recorrerlo completamente y obtener a mejor jugada.  Aquí es donde entra el algoritmo alfa beta pruning, que lo que hace principalmente es simplificar significativamnete el análisis del árbol. Si al momento de analizar una parte del árbol se encuentra un nodo que ya no se puede mejorar más se \"podan\" (no se exploran) las ramas restantes ya que no es neceario revisarlas. La complejidad de minimax es de O(b^d), pero la complejidad de alfa beta pruning es de O(b^(d/2)), donde b es el factor de ramificación (que tantas rama salen de cada nodo) y d es la profundidad del árbol. Eso quiere decir que si tenemos un juego donde el factor de ramificación es de 10 con profundidad 4, se evaluan aproximadamente 10^4 = 10000sin poda alfa-beta, mientras que con poda sería 10^(4/2) = 100. Una mejora bastante grande.\n",
    "\n",
    "3. ¿Cuál es el papel de expectiminimax en juegos con incertidumbre, como aquellos que involucran nodos de azar o información oculta? ¿En qué se diferencia el expectiminimax del minimax en el manejo de resultados probabilísticos y cuáles son los desafíos clave que aborda?\n",
    "\n",
    "El expectiminimax es una versión extendida del minimax que se usa principalmente cuando en un juego hay fáctores de incertidumbre (como eventos aleatorios) antes o después de tomar una decisión. El papel de este algoritmo es poder manejar y tomar decisiones óptimas para el jugador cuando el entorno realmente no es determinista. Es útil para tomar la mejor decisión posible cuando las decisiones y resultados dependen de probailidades al lanzar un dado, una moneda, revelear una carta oculta, entre otros.\n",
    "La principal diferencia con el minimax, es que el minimax maneja resultados deterministas, pero el expectiminimax tiene en cuenta la aleatoriedad y se calculan valores esperados de las decisiones. Es por esto que el expectiminimax toma en consideración Nodos de azar que son eventos probabilísticos, no solo nodos de minimización y maximización.\n",
    "Los desafíos clave realmente tienen que ver también con la complejidad que introduce al problema los eventos aleatorios. Estos eventos hacen que las situaciones no sean deterministas y se tengan que hacer estimados. Un desafío clave es poder seguir tomando decisiones óptimas incluso cuando hay incertidumbre en el problema, la complejidad computacional debido a la introducción de nuevos nodos y la función de evaluación para manejar correctamente la incertidumbre."
   ]
  },
  {
   "cell_type": "markdown",
   "metadata": {},
   "source": [
    "Task 2 - Connect Four\n"
   ]
  }
 ],
 "metadata": {
  "language_info": {
   "name": "python"
  }
 },
 "nbformat": 4,
 "nbformat_minor": 2
}
